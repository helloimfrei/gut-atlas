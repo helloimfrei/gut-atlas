{
 "cells": [
  {
   "cell_type": "code",
   "execution_count": 14,
   "id": "a9cbb91b",
   "metadata": {},
   "outputs": [],
   "source": [
    "import pandas as pd\n",
    "import numpy as np\n",
    "import re\n",
    "from skopt import BayesSearchCV\n",
    "from skopt.space import Real, Integer\n",
    "import xgboost as xgb\n",
    "from sklearn.metrics import confusion_matrix,accuracy_score, ConfusionMatrixDisplay, roc_auc_score, roc_curve\n",
    "from sklearn.model_selection import train_test_split, StratifiedKFold, cross_val_score\n",
    "from sklearn.multiclass import OneVsRestClassifier\n",
    "import sys\n",
    "sys.path.append('../src')\n",
    "from gutatlas.features import clean_feature_names\n",
    "from tensorflow import keras\n",
    "import matplotlib.pyplot as plt\n",
    "import shap\n",
    "import os\n",
    "import json\n",
    "from pathlib import Path\n",
    "os.environ['CUDA_VISIBLE_DEVICES'] = '-1'"
   ]
  },
  {
   "cell_type": "code",
   "execution_count": 5,
   "id": "3cd57bdf",
   "metadata": {},
   "outputs": [],
   "source": [
    "training_set = pd.read_parquet('../data/processed/gi_multilabel_training.parquet')\n",
    "training_set = training_set.rename({col:clean_feature_names(col) for col in training_set.columns}, axis = 1)\n",
    "X_train,X_test,y_train,y_test = train_test_split(training_set.iloc[:,13:],training_set.iloc[:,1:13])"
   ]
  },
  {
   "cell_type": "markdown",
   "id": "053e611d",
   "metadata": {},
   "source": [
    "## one vs rest xgboost"
   ]
  },
  {
   "cell_type": "code",
   "execution_count": 13,
   "id": "086a9317",
   "metadata": {},
   "outputs": [],
   "source": [
    "bst = xgb.XGBClassifier(\n",
    "    n_estimators=400, \n",
    "    max_depth=5, \n",
    "    learning_rate=0.08, \n",
    "    objective='binary:logistic',\n",
    "    eval_metric = 'auc',\n",
    "    tree_method = 'hist',\n",
    "    )\n",
    "\n",
    "multilabel_bst = OneVsRestClassifier(bst)\n",
    "multilabel_bst.fit(X_train,y_train)\n",
    "preds = multilabel_bst.predict(X_test)"
   ]
  },
  {
   "cell_type": "markdown",
   "id": "f8b20f9d",
   "metadata": {},
   "source": [
    "## neural net"
   ]
  },
  {
   "cell_type": "markdown",
   "id": "bbec499b",
   "metadata": {},
   "source": [
    "model = k"
   ]
  }
 ],
 "metadata": {
  "kernelspec": {
   "display_name": "ml",
   "language": "python",
   "name": "python3"
  },
  "language_info": {
   "codemirror_mode": {
    "name": "ipython",
    "version": 3
   },
   "file_extension": ".py",
   "mimetype": "text/x-python",
   "name": "python",
   "nbconvert_exporter": "python",
   "pygments_lexer": "ipython3",
   "version": "3.9.19"
  }
 },
 "nbformat": 4,
 "nbformat_minor": 5
}
